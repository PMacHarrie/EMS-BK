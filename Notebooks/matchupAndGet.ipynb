{
 "cells": [
  {
   "cell_type": "code",
   "execution_count": null,
   "id": "58c11de4",
   "metadata": {},
   "outputs": [],
   "source": [
    "curl -O -b .urs_cookies -c .urs_cookies -L -n https://gpm1.gesdisc.eosdis.nasa.gov/data/GPM_L2/GPM_2AGPROFNOAA20ATMS_CLIM.05/2019/171/2A-CLIM.NOAA20.ATMS.GPROF2017v2.20190620-S063108-E081237.008214.V05B.HDF5"
   ]
  }
 ],
 "metadata": {
  "kernelspec": {
   "display_name": "conda_pytorch_p36",
   "language": "python",
   "name": "conda_pytorch_p36"
  },
  "language_info": {
   "codemirror_mode": {
    "name": "ipython",
    "version": 3
   },
   "file_extension": ".py",
   "mimetype": "text/x-python",
   "name": "python",
   "nbconvert_exporter": "python",
   "pygments_lexer": "ipython3",
   "version": "3.6.13"
  }
 },
 "nbformat": 4,
 "nbformat_minor": 5
}
