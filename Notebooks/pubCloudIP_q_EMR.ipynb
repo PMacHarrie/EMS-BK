{
 "cells": [
  {
   "cell_type": "code",
   "execution_count": null,
   "id": "30186131",
   "metadata": {},
   "outputs": [],
   "source": [
    "JAR location :command-runner.jar\n",
    "Main class :None\n",
    "Arguments :presto-cli --catalog hive --schema ems --execute \"select CAST(cidr AS IPPREFIX) cidr from cloud_cidr limit 10\"\n",
    "Action on failure:Continue\n",
    "\"13.95.9.27/32\"\n",
    "\"40.79.80.0/21\"\n",
    "\"52.236.186.240/29\"\n",
    "\"20.190.180.128/28\"\n",
    "\"40.79.84.180/32\"\n",
    "\"40.79.88.0/27\"\n",
    "\"40.79.88.16/28\"\n",
    "\"40.79.88.16/30\"\n",
    "\"40.79.88.20/31\"\n",
    "\"40.79.88.22/32\"    "
   ]
  },
  {
   "cell_type": "code",
   "execution_count": null,
   "id": "70589023",
   "metadata": {},
   "outputs": [],
   "source": [
    "JAR location :command-runner.jar\n",
    "Main class :None\n",
    "Arguments :presto-cli --catalog hive --schema ems --execute \"select cidr, originalip, cidr_ip, dist_ip, is_subnet_of(cidr_ip, dist_ip) fromCloud from (select CAST(cidr AS IPPREFIX) cidr_ip from cloud_cidr limit 10) t1, ( select cast(originalip as IPADDRESS) dist_ip, originalip from ems.distdailysummary where originalip <> '' and requestDate >= timestamp '2021-10-01' limit 10) t2\"\n",
    "Action on failure:Continue"
   ]
  },
  {
   "cell_type": "code",
   "execution_count": null,
   "id": "f1ba46dc",
   "metadata": {},
   "outputs": [],
   "source": [
    "presto-cli --catalog hive --schema ems --execute \"\n",
    "select cidr, originalip, cidr_ip, dist_ip, vendor, region, bytes, numGrans \n",
    "from ( select CAST(cidr AS IPPREFIX) cidr_ip, cidr, vendor, region from cloud_cidr) t1, \n",
    "( select try_cast(originalip as IPADDRESS) dist_ip, originalip, bytes, distdatarowid numGrans \n",
    "  from ems.distdailysummary \n",
    "  where originalip <> '' and requestDate >= timestamp '2021-10-01' limit 100000) t2 \n",
    "where \n",
    " substr(t2.originalip, 1, 3) = substr(t1.cidr, 1, 3) \n",
    " and case when dist_ip is not null then False else is_subnet_of(cidr_ip, dist_ip) end = True\n",
    "\""
   ]
  },
  {
   "cell_type": "code",
   "execution_count": null,
   "id": "05f003ce",
   "metadata": {},
   "outputs": [],
   "source": [
    "presto-cli --catalog hive --schema ems --execute \"\n",
    "select vendor, region, sum(bytes) sumB, sum(distdatarowid) sumG \n",
    "from \n",
    " ( select CAST(cidr AS IPPREFIX) cidr_ip, cidr, vendor, region from cloud_cidr) t1, \n",
    " ( select try_cast(originalip as IPADDRESS) dist_ip, originalip, distdatarowid, bytes \n",
    "   from ems.distdailysummary \n",
    "   where provider = 'ASFCLOUD' and originalip <> '' and requestDate >= timestamp '2021-10-01') t2 \n",
    "where \n",
    " substr(t2.originalip, 1, 6) = substr(t1.cidr, 1, 6) \n",
    " and case when dist_ip is null then False else is_subnet_of(cidr_ip, dist_ip) end = True \n",
    "group by vendor, region \n",
    "order by vendor, region\"\n",
    "\"AWS\",\"ap-east-1\",\"10625077699\",\"193\"\n",
    "\"AWS\",\"ap-northeast-1\",\"70119269860\",\"466\"\n",
    "\"AWS\",\"ap-northeast-2\",\"40052237176\",\"449\"\n",
    "\"AWS\",\"ap-northeast-3\",\"118314660396\",\"595\"\n",
    "\"AWS\",\"ap-south-1\",\"5205904077\",\"58\"\n",
    "\"AWS\",\"ap-southeast-1\",\"2533129233203\",\"10120\"\n",
    "\"AWS\",\"eu-central-1\",\"351093805471\",\"191260\"\n",
    "\"AWS\",\"eu-south-1\",\"76255525063\",\"95\"\n",
    "\"AWS\",\"eu-west-1\",\"6528668563648\",\"22719\"\n",
    "\"AWS\",\"eu-west-2\",\"29572388490\",\"79214\"\n",
    "\"AWS\",\"eu-west-3\",\"779456253589\",\"174\"\n",
    "\"AWS\",\"us-east-1\",\"2867647523420\",\"28980\"\n",
    "\"AWS\",\"us-east-2\",\"24575\",\"24575\"\n",
    "\"AWS\",\"us-west-1\",\"14205418850\",\"538639\"\n",
    "\"AWS\",\"us-west-2\",\"34797807118104\",\"102435\"\n",
    "\"Azure-Public\",\"australiaeast\",\"45336274202\",\"1121\"\n",
    "\"Azure-Public\",\"eastasia\",\"3707843019476\",\"36381\"\n",
    "\"Azure-Public\",\"eastus2\",\"132040293\",\"13\"\n",
    "\"Azure-Public\",\"germanywc\",\"545677053157\",\"860\"\n",
    "\"Azure-Public\",\"japaneast\",\"31802224\",\"1\"\n",
    "\"Azure-Public\",\"japanwest\",\"73627154093\",\"22\"\n",
    "\"Azure-Public\",\"koreacentral\",\"31901301\",\"1\"\n",
    "\"Azure-Public\",\"koreasouth\",\"36586929534\",\"1254\"\n",
    "\"Azure-Public\",\"southeastasia\",\"104319381063\",\"232\"\n",
    "\"Azure-Public\",\"ukwest\",\"2809878022\",\"3\"\n",
    "\"Azure-Public\",\"westeurope\",\"496269760003\",\"165\"\n",
    "\"Azure-Public\",\"westus\",\"11424474649\",\"47\""
   ]
  },
  {
   "cell_type": "code",
   "execution_count": null,
   "id": "a9ea4efd",
   "metadata": {},
   "outputs": [],
   "source": [
    "presto-cli --catalog hive --schema ems --execute \"select vendor, region, sum(bytes) sumB, sum(distdatarowid) sumG from ( select CAST(cidr AS IPPREFIX) cidr_ip, cidr, vendor, region from cloud_cidr) t1, ( select try_cast(originalip as IPADDRESS) dist_ip, originalip, distdatarowid, bytes from ems.distdailysummary where originalip <> '' and requestDate >= timestamp '2021-10-01') t2 where substr(t2.originalip, 1, 6) = substr(t1.cidr, 1, 6) and case when dist_ip is null then False else is_subnet_of(cidr_ip, dist_ip) end = True group by vendor, region order by vendor, region\"\n",
    "\n",
    "\"AWS\",\"ap-east-1\",\"592958562218\",\"112120\"\n",
    "\"AWS\",\"ap-northeast-1\",\"289205561579\",\"37369\"\n",
    "\"AWS\",\"ap-northeast-2\",\"242210176810\",\"7729\"\n",
    "\"AWS\",\"ap-northeast-3\",\"120929674302\",\"745\"\n",
    "\"AWS\",\"ap-south-1\",\"11812274987\",\"2317\"\n",
    "\"AWS\",\"ap-southeast-1\",\"2904489090275\",\"83243\"\n",
    "\"AWS\",\"ap-southeast-2\",\"1812645325219\",\"821802\"\n",
    "\"AWS\",\"ca-central-1\",\"55557468826\",\"1062\"\n",
    "\"AWS\",\"cn-north-1\",\"12096710\",\"549\"\n",
    "\"AWS\",\"eu-central-1\",\"1446806312067\",\"1990369\"\n",
    "\"AWS\",\"eu-north-1\",\"258864746\",\"46193\"\n",
    "\"AWS\",\"eu-south-1\",\"76255525063\",\"95\"\n",
    "\"AWS\",\"eu-west-1\",\"6567568611272\",\"142588\"\n",
    "\"AWS\",\"eu-west-2\",\"31275076281\",\"126743\"\n",
    "\"AWS\",\"eu-west-3\",\"784422451598\",\"1503\"\n",
    "\"AWS\",\"sa-east-1\",\"347024589\",\"2187\"\n",
    "\"AWS\",\"us-east-1\",\"11164800626938\",\"524897\"\n",
    "\"AWS\",\"us-east-2\",\"303695671165\",\"492690\"\n",
    "\"AWS\",\"us-gov-west-1\",\"11007193817\",\"83261\"\n",
    "\"AWS\",\"us-west-1\",\"191243228065\",\"589911\"\n",
    "\"AWS\",\"us-west-2\",\"48260204891151\",\"337644\"\n",
    "\"Azure-Gov\",\"usgovarizona\",\"614363\",\"2\"\n",
    "\"Azure-Gov\",\"usgovvirginia\",\"6855984\",\"2\"\n",
    "\"Azure-Public\",\"\",\"94293412\",\"170\"\n",
    "\"Azure-Public\",\"australiacentral\",\"9932569297\",\"160\"\n",
    "\"Azure-Public\",\"australiaeast\",\"59944159354\",\"1508\"\n",
    "\"Azure-Public\",\"brazilsouth\",\"46713253\",\"104\"\n",
    "\"Azure-Public\",\"canadacentral\",\"36831160\",\"139\"\n",
    "\"Azure-Public\",\"canadaeast\",\"2024916615\",\"196\"\n",
    "\"Azure-Public\",\"centralfrance\",\"534761698\",\"157\"\n",
    "\"Azure-Public\",\"centralus\",\"8001082646\",\"23039\"\n",
    "\"Azure-Public\",\"eastasia\",\"4266827838449\",\"65788\"\n",
    "\"Azure-Public\",\"eastus\",\"502725255091\",\"186443\"\n",
    "\"Azure-Public\",\"eastus2\",\"70805753512\",\"69610\"\n",
    "\"Azure-Public\",\"germanywc\",\"545677053157\",\"860\"\n",
    "\"Azure-Public\",\"japaneast\",\"25443369569\",\"320\"\n",
    "\"Azure-Public\",\"japanwest\",\"250003705974\",\"29650\"\n",
    "\"Azure-Public\",\"koreacentral\",\"748902124\",\"294\"\n",
    "\"Azure-Public\",\"koreasouth\",\"37825741217\",\"1259\"\n",
    "\"Azure-Public\",\"northcentralus\",\"7965808149\",\"5571\"\n",
    "\"Azure-Public\",\"northeurope\",\"1754156248\",\"429\"\n",
    "\"Azure-Public\",\"norwaye\",\"19487764\",\"298\"\n",
    "\"Azure-Public\",\"southafricanorth\",\"21789512\",\"1266\"\n",
    "\"Azure-Public\",\"southcentralus\",\"1512731952539\",\"37359\"\n",
    "\"Azure-Public\",\"southeastasia\",\"112268833693\",\"499\"\n",
    "\"Azure-Public\",\"switzerlandn\",\"9282995953\",\"460\"\n",
    "\"Azure-Public\",\"uaenorth\",\"36592073\",\"4\"\n",
    "\"Azure-Public\",\"uksouth\",\"249882716\",\"12\"\n",
    "\"Azure-Public\",\"ukwest\",\"2813757941\",\"6\"\n",
    "\"Azure-Public\",\"westcentralus\",\"15872\",\"1\"\n",
    "\"Azure-Public\",\"westeurope\",\"5357979895134\",\"397803\"\n",
    "\"Azure-Public\",\"westus\",\"194668545912\",\"360\"\n",
    "\"Azure-Public\",\"westus2\",\"130561038290\",\"131516\"\n",
    "\"Azure-Public\",\"westus3\",\"508009978\",\"218\"\n",
    "\"Google\",\"None\",\"69276548\",\"1728\""
   ]
  },
  {
   "cell_type": "code",
   "execution_count": 4,
   "id": "7769b8e7",
   "metadata": {},
   "outputs": [],
   "source": [
    "import boto3\n",
    "import datetime"
   ]
  },
  {
   "cell_type": "code",
   "execution_count": 11,
   "id": "95aae4da",
   "metadata": {},
   "outputs": [
    {
     "ename": "TypeError",
     "evalue": "client() got an unexpected keyword argument 'region'",
     "output_type": "error",
     "traceback": [
      "\u001b[0;31m---------------------------------------------------------------------------\u001b[0m",
      "\u001b[0;31mTypeError\u001b[0m                                 Traceback (most recent call last)",
      "\u001b[0;32m<ipython-input-11-e47b0cc1a005>\u001b[0m in \u001b[0;36m<module>\u001b[0;34m\u001b[0m\n\u001b[0;32m----> 1\u001b[0;31m \u001b[0mclient\u001b[0m \u001b[0;34m=\u001b[0m \u001b[0mboto3\u001b[0m\u001b[0;34m.\u001b[0m\u001b[0mclient\u001b[0m\u001b[0;34m(\u001b[0m\u001b[0;34m'emr'\u001b[0m\u001b[0;34m,\u001b[0m \u001b[0mregion\u001b[0m\u001b[0;34m=\u001b[0m\u001b[0;34m'us-west-2'\u001b[0m\u001b[0;34m)\u001b[0m\u001b[0;34m\u001b[0m\u001b[0;34m\u001b[0m\u001b[0m\n\u001b[0m",
      "\u001b[0;32m~/anaconda3/envs/python3/lib/python3.6/site-packages/boto3/__init__.py\u001b[0m in \u001b[0;36mclient\u001b[0;34m(*args, **kwargs)\u001b[0m\n\u001b[1;32m     91\u001b[0m     \u001b[0mSee\u001b[0m \u001b[0;34m:\u001b[0m\u001b[0mpy\u001b[0m\u001b[0;34m:\u001b[0m\u001b[0mmeth\u001b[0m\u001b[0;34m:\u001b[0m\u001b[0;31m`\u001b[0m\u001b[0mboto3\u001b[0m\u001b[0;34m.\u001b[0m\u001b[0msession\u001b[0m\u001b[0;34m.\u001b[0m\u001b[0mSession\u001b[0m\u001b[0;34m.\u001b[0m\u001b[0mclient\u001b[0m\u001b[0;31m`\u001b[0m\u001b[0;34m.\u001b[0m\u001b[0;34m\u001b[0m\u001b[0;34m\u001b[0m\u001b[0m\n\u001b[1;32m     92\u001b[0m     \"\"\"\n\u001b[0;32m---> 93\u001b[0;31m     \u001b[0;32mreturn\u001b[0m \u001b[0m_get_default_session\u001b[0m\u001b[0;34m(\u001b[0m\u001b[0;34m)\u001b[0m\u001b[0;34m.\u001b[0m\u001b[0mclient\u001b[0m\u001b[0;34m(\u001b[0m\u001b[0;34m*\u001b[0m\u001b[0margs\u001b[0m\u001b[0;34m,\u001b[0m \u001b[0;34m**\u001b[0m\u001b[0mkwargs\u001b[0m\u001b[0;34m)\u001b[0m\u001b[0;34m\u001b[0m\u001b[0;34m\u001b[0m\u001b[0m\n\u001b[0m\u001b[1;32m     94\u001b[0m \u001b[0;34m\u001b[0m\u001b[0m\n\u001b[1;32m     95\u001b[0m \u001b[0;34m\u001b[0m\u001b[0m\n",
      "\u001b[0;31mTypeError\u001b[0m: client() got an unexpected keyword argument 'region'"
     ]
    }
   ],
   "source": [
    "client = boto3.client('emr', region='us-west-2')"
   ]
  },
  {
   "cell_type": "code",
   "execution_count": 10,
   "id": "0771c856",
   "metadata": {},
   "outputs": [
    {
     "ename": "ParamValidationError",
     "evalue": "Parameter validation failed:\nUnknown parameter in input: \"region\", must be one of: CreatedAfter, CreatedBefore, ClusterStates, Marker",
     "output_type": "error",
     "traceback": [
      "\u001b[0;31m---------------------------------------------------------------------------\u001b[0m",
      "\u001b[0;31mParamValidationError\u001b[0m                      Traceback (most recent call last)",
      "\u001b[0;32m<ipython-input-10-e450b64f9c19>\u001b[0m in \u001b[0;36m<module>\u001b[0;34m\u001b[0m\n\u001b[0;32m----> 1\u001b[0;31m \u001b[0mresponse\u001b[0m \u001b[0;34m=\u001b[0m \u001b[0mclient\u001b[0m\u001b[0;34m.\u001b[0m\u001b[0mlist_clusters\u001b[0m\u001b[0;34m(\u001b[0m\u001b[0mregion\u001b[0m\u001b[0;34m=\u001b[0m\u001b[0;34m'US-West-2'\u001b[0m\u001b[0;34m)\u001b[0m\u001b[0;34m\u001b[0m\u001b[0;34m\u001b[0m\u001b[0m\n\u001b[0m\u001b[1;32m      2\u001b[0m \u001b[0mprint\u001b[0m \u001b[0;34m(\u001b[0m\u001b[0mresponse\u001b[0m\u001b[0;34m)\u001b[0m\u001b[0;34m\u001b[0m\u001b[0;34m\u001b[0m\u001b[0m\n",
      "\u001b[0;32m~/anaconda3/envs/python3/lib/python3.6/site-packages/botocore/client.py\u001b[0m in \u001b[0;36m_api_call\u001b[0;34m(self, *args, **kwargs)\u001b[0m\n\u001b[1;32m    389\u001b[0m                     \"%s() only accepts keyword arguments.\" % py_operation_name)\n\u001b[1;32m    390\u001b[0m             \u001b[0;31m# The \"self\" in this scope is referring to the BaseClient.\u001b[0m\u001b[0;34m\u001b[0m\u001b[0;34m\u001b[0m\u001b[0;34m\u001b[0m\u001b[0m\n\u001b[0;32m--> 391\u001b[0;31m             \u001b[0;32mreturn\u001b[0m \u001b[0mself\u001b[0m\u001b[0;34m.\u001b[0m\u001b[0m_make_api_call\u001b[0m\u001b[0;34m(\u001b[0m\u001b[0moperation_name\u001b[0m\u001b[0;34m,\u001b[0m \u001b[0mkwargs\u001b[0m\u001b[0;34m)\u001b[0m\u001b[0;34m\u001b[0m\u001b[0;34m\u001b[0m\u001b[0m\n\u001b[0m\u001b[1;32m    392\u001b[0m \u001b[0;34m\u001b[0m\u001b[0m\n\u001b[1;32m    393\u001b[0m         \u001b[0m_api_call\u001b[0m\u001b[0;34m.\u001b[0m\u001b[0m__name__\u001b[0m \u001b[0;34m=\u001b[0m \u001b[0mstr\u001b[0m\u001b[0;34m(\u001b[0m\u001b[0mpy_operation_name\u001b[0m\u001b[0;34m)\u001b[0m\u001b[0;34m\u001b[0m\u001b[0;34m\u001b[0m\u001b[0m\n",
      "\u001b[0;32m~/anaconda3/envs/python3/lib/python3.6/site-packages/botocore/client.py\u001b[0m in \u001b[0;36m_make_api_call\u001b[0;34m(self, operation_name, api_params)\u001b[0m\n\u001b[1;32m    690\u001b[0m         }\n\u001b[1;32m    691\u001b[0m         request_dict = self._convert_to_request_dict(\n\u001b[0;32m--> 692\u001b[0;31m             api_params, operation_model, context=request_context)\n\u001b[0m\u001b[1;32m    693\u001b[0m \u001b[0;34m\u001b[0m\u001b[0m\n\u001b[1;32m    694\u001b[0m         \u001b[0mservice_id\u001b[0m \u001b[0;34m=\u001b[0m \u001b[0mself\u001b[0m\u001b[0;34m.\u001b[0m\u001b[0m_service_model\u001b[0m\u001b[0;34m.\u001b[0m\u001b[0mservice_id\u001b[0m\u001b[0;34m.\u001b[0m\u001b[0mhyphenize\u001b[0m\u001b[0;34m(\u001b[0m\u001b[0;34m)\u001b[0m\u001b[0;34m\u001b[0m\u001b[0;34m\u001b[0m\u001b[0m\n",
      "\u001b[0;32m~/anaconda3/envs/python3/lib/python3.6/site-packages/botocore/client.py\u001b[0m in \u001b[0;36m_convert_to_request_dict\u001b[0;34m(self, api_params, operation_model, context)\u001b[0m\n\u001b[1;32m    738\u001b[0m             api_params, operation_model, context)\n\u001b[1;32m    739\u001b[0m         request_dict = self._serializer.serialize_to_request(\n\u001b[0;32m--> 740\u001b[0;31m             api_params, operation_model)\n\u001b[0m\u001b[1;32m    741\u001b[0m         \u001b[0;32mif\u001b[0m \u001b[0;32mnot\u001b[0m \u001b[0mself\u001b[0m\u001b[0;34m.\u001b[0m\u001b[0m_client_config\u001b[0m\u001b[0;34m.\u001b[0m\u001b[0minject_host_prefix\u001b[0m\u001b[0;34m:\u001b[0m\u001b[0;34m\u001b[0m\u001b[0;34m\u001b[0m\u001b[0m\n\u001b[1;32m    742\u001b[0m             \u001b[0mrequest_dict\u001b[0m\u001b[0;34m.\u001b[0m\u001b[0mpop\u001b[0m\u001b[0;34m(\u001b[0m\u001b[0;34m'host_prefix'\u001b[0m\u001b[0;34m,\u001b[0m \u001b[0;32mNone\u001b[0m\u001b[0;34m)\u001b[0m\u001b[0;34m\u001b[0m\u001b[0;34m\u001b[0m\u001b[0m\n",
      "\u001b[0;32m~/anaconda3/envs/python3/lib/python3.6/site-packages/botocore/validate.py\u001b[0m in \u001b[0;36mserialize_to_request\u001b[0;34m(self, parameters, operation_model)\u001b[0m\n\u001b[1;32m    358\u001b[0m                                                     operation_model.input_shape)\n\u001b[1;32m    359\u001b[0m             \u001b[0;32mif\u001b[0m \u001b[0mreport\u001b[0m\u001b[0;34m.\u001b[0m\u001b[0mhas_errors\u001b[0m\u001b[0;34m(\u001b[0m\u001b[0;34m)\u001b[0m\u001b[0;34m:\u001b[0m\u001b[0;34m\u001b[0m\u001b[0;34m\u001b[0m\u001b[0m\n\u001b[0;32m--> 360\u001b[0;31m                 \u001b[0;32mraise\u001b[0m \u001b[0mParamValidationError\u001b[0m\u001b[0;34m(\u001b[0m\u001b[0mreport\u001b[0m\u001b[0;34m=\u001b[0m\u001b[0mreport\u001b[0m\u001b[0;34m.\u001b[0m\u001b[0mgenerate_report\u001b[0m\u001b[0;34m(\u001b[0m\u001b[0;34m)\u001b[0m\u001b[0;34m)\u001b[0m\u001b[0;34m\u001b[0m\u001b[0;34m\u001b[0m\u001b[0m\n\u001b[0m\u001b[1;32m    361\u001b[0m         return self._serializer.serialize_to_request(parameters,\n\u001b[1;32m    362\u001b[0m                                                      operation_model)\n",
      "\u001b[0;31mParamValidationError\u001b[0m: Parameter validation failed:\nUnknown parameter in input: \"region\", must be one of: CreatedAfter, CreatedBefore, ClusterStates, Marker"
     ]
    }
   ],
   "source": [
    "response = client.list_clusters(region='US-West-2')\n",
    "print (response)"
   ]
  },
  {
   "cell_type": "code",
   "execution_count": null,
   "id": "d9c4252c",
   "metadata": {},
   "outputs": [],
   "source": []
  }
 ],
 "metadata": {
  "kernelspec": {
   "display_name": "conda_python3",
   "language": "python",
   "name": "conda_python3"
  },
  "language_info": {
   "codemirror_mode": {
    "name": "ipython",
    "version": 3
   },
   "file_extension": ".py",
   "mimetype": "text/x-python",
   "name": "python",
   "nbconvert_exporter": "python",
   "pygments_lexer": "ipython3",
   "version": "3.6.13"
  }
 },
 "nbformat": 4,
 "nbformat_minor": 5
}
