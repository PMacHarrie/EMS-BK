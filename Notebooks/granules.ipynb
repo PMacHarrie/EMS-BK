{
 "cells": [
  {
   "cell_type": "markdown",
   "metadata": {},
   "source": [
    "# Python Wrapper for CMR\n",
    "`A python library to interface with CMR - Granule Search Demo`\n",
    "\n",
    "This demo will show how to preform a search for **Granules** against CMR while inside a notebook."
   ]
  },
  {
   "cell_type": "code",
   "execution_count": 1,
   "metadata": {},
   "outputs": [],
   "source": [
    "# Hacky?\n",
    "import os,sys\n",
    "#os.environ['PATH'] += os.pathsep + '/home/jupyter/eomt'\n",
    "#sys.path.append('/home/jupyter/eomt/cmr/python')\n",
    "sys.path.append(os.path.expanduser('/home/jupyter/eomt'))"
   ]
  },
  {
   "cell_type": "code",
   "execution_count": 2,
   "metadata": {},
   "outputs": [
    {
     "name": "stdout",
     "output_type": "stream",
     "text": [
      "environ({'PATH': '/bin:/usr/local/sbin:/usr/local/bin:/usr/sbin:/usr/bin:/opt/jupyterhub/bin', 'LANG': 'C.UTF-8', 'JUPYTERHUB_API_TOKEN': '347b831efd69452f8359bd0c1c890819', 'JPY_API_TOKEN': '347b831efd69452f8359bd0c1c890819', 'JUPYTERHUB_CLIENT_ID': 'jupyterhub-user-jupyter', 'JUPYTERHUB_HOST': '', 'JUPYTERHUB_OAUTH_CALLBACK_URL': '/user/jupyter/oauth_callback', 'JUPYTERHUB_USER': 'jupyter', 'JUPYTERHUB_SERVER_NAME': '', 'JUPYTERHUB_API_URL': 'http://127.0.0.1:8081/hub/api', 'JUPYTERHUB_ACTIVITY_URL': 'http://127.0.0.1:8081/hub/api/users/jupyter/activity', 'JUPYTERHUB_BASE_URL': '/', 'JUPYTERHUB_SERVICE_PREFIX': '/user/jupyter/', 'USER': 'jupyter', 'HOME': '/home/jupyter', 'SHELL': '/bin/bash', 'JPY_PARENT_PID': '2635', 'TERM': 'xterm-color', 'CLICOLOR': '1', 'PAGER': 'cat', 'GIT_PAGER': 'cat', 'MPLBACKEND': 'module://ipykernel.pylab.backend_inline'})\n"
     ]
    }
   ],
   "source": [
    "print(os.environ)"
   ]
  },
  {
   "cell_type": "markdown",
   "metadata": {},
   "source": [
    "## Loading the library\n",
    "From the command line, make sure you call `runme.sh -p -i` to both backage and install the library through pip3.n"
   ]
  },
  {
   "cell_type": "markdown",
   "metadata": {},
   "source": [
    "## Import Modules"
   ]
  },
  {
   "cell_type": "code",
   "execution_count": 3,
   "metadata": {},
   "outputs": [],
   "source": [
    "#import cmr.search.collection as coll\n",
    "import cmr.search.granule as gran"
   ]
  },
  {
   "cell_type": "markdown",
   "metadata": {},
   "source": [
    "## Get Online Help\n",
    "\n",
    "At least some understanding of the CMR API will be needed from time to time, to assist with that the following call can be used to open a browser window to the API. For the fun of it, you can pass in an HTML anchor tag on the page and jump directly there."
   ]
  },
  {
   "cell_type": "code",
   "execution_count": 4,
   "metadata": {},
   "outputs": [],
   "source": [
    "gran.open_api()"
   ]
  },
  {
   "cell_type": "code",
   "execution_count": 5,
   "metadata": {},
   "outputs": [
    {
     "name": "stdout",
     "output_type": "stream",
     "text": [
      "<module 'cmr.search.granule' from '/home/jupyter/eomt/cmr/search/granule.py'>\n"
     ]
    }
   ],
   "source": [
    "print (gran)"
   ]
  },
  {
   "cell_type": "code",
   "execution_count": 6,
   "metadata": {},
   "outputs": [],
   "source": [
    "gran.open_api(\"#headers\")"
   ]
  },
  {
   "cell_type": "markdown",
   "metadata": {},
   "source": [
    "## Basic Search\n"
   ]
  },
  {
   "cell_type": "code",
   "execution_count": 6,
   "metadata": {},
   "outputs": [
    {
     "name": "stdout",
     "output_type": "stream",
     "text": [
      "Found 0 records.\n"
     ]
    }
   ],
   "source": [
    "params = {}\n",
    "params['provider'] = 'GSFC_DAAC' \n",
    "results = gran.search(params)\n",
    "print(\"Found {} records.\".format(len(results)))\n",
    "for i in results:\n",
    "    print (i)"
   ]
  },
  {
   "cell_type": "markdown",
   "metadata": {},
   "source": [
    "## Perform a Filtered Result\n",
    "\n",
    "Search as before, but only return the meta section of the response."
   ]
  },
  {
   "cell_type": "code",
   "execution_count": 8,
   "metadata": {},
   "outputs": [
    {
     "name": "stdout",
     "output_type": "stream",
     "text": [
      "Found 10 records.\n",
      "{'concept-type': 'granule', 'concept-id': 'G1220965083-ORNL_DAAC', 'revision-id': 1, 'native-id': 'Peatland_carbon_balance.dcpeat_cum_yml_stocker17pnas.csv', 'provider-id': 'ORNL_DAAC', 'format': 'application/echo10+xml', 'revision-date': '2017-12-21T14:19:48.131Z'}\n",
      "{'concept-type': 'granule', 'concept-id': 'G1220965084-ORNL_DAAC', 'revision-id': 1, 'native-id': 'Peatland_carbon_balance.dcpeat_yml_stocker17pnas.csv', 'provider-id': 'ORNL_DAAC', 'format': 'application/echo10+xml', 'revision-date': '2017-12-21T14:19:48.150Z'}\n",
      "{'concept-type': 'granule', 'concept-id': 'G1220965085-ORNL_DAAC', 'revision-id': 1, 'native-id': 'Peatland_carbon_balance.fluc_hyde32u.nc', 'provider-id': 'ORNL_DAAC', 'format': 'application/echo10+xml', 'revision-date': '2017-12-21T14:19:48.165Z'}\n",
      "{'concept-type': 'granule', 'concept-id': 'G1220965086-ORNL_DAAC', 'revision-id': 1, 'native-id': 'Peatland_carbon_balance.luarea_kk10.nc', 'provider-id': 'ORNL_DAAC', 'format': 'application/echo10+xml', 'revision-date': '2017-12-21T14:19:48.214Z'}\n",
      "{'concept-type': 'granule', 'concept-id': 'G1220965087-ORNL_DAAC', 'revision-id': 1, 'native-id': 'Peatland_carbon_balance.luarea_hyde31.nc', 'provider-id': 'ORNL_DAAC', 'format': 'application/echo10+xml', 'revision-date': '2017-12-21T14:19:48.236Z'}\n",
      "{'concept-type': 'granule', 'concept-id': 'G1220965088-ORNL_DAAC', 'revision-id': 1, 'native-id': 'Peatland_carbon_balance.fluc_hyde31u.nc', 'provider-id': 'ORNL_DAAC', 'format': 'application/echo10+xml', 'revision-date': '2017-12-21T14:19:48.262Z'}\n",
      "{'concept-type': 'granule', 'concept-id': 'G1220965089-ORNL_DAAC', 'revision-id': 1, 'native-id': 'Peatland_carbon_balance.luc_co2_emissions_stocker17pnas.csv', 'provider-id': 'ORNL_DAAC', 'format': 'application/echo10+xml', 'revision-date': '2017-12-21T14:19:48.253Z'}\n",
      "{'concept-type': 'granule', 'concept-id': 'G1220965090-ORNL_DAAC', 'revision-id': 1, 'native-id': 'Peatland_carbon_balance.luarea_hyde31u.nc', 'provider-id': 'ORNL_DAAC', 'format': 'application/echo10+xml', 'revision-date': '2017-12-21T14:19:48.271Z'}\n",
      "{'concept-type': 'granule', 'concept-id': 'G1220965091-ORNL_DAAC', 'revision-id': 1, 'native-id': 'Peatland_carbon_balance.fluc_hyde32.nc', 'provider-id': 'ORNL_DAAC', 'format': 'application/echo10+xml', 'revision-date': '2017-12-21T14:19:48.276Z'}\n",
      "{'concept-type': 'granule', 'concept-id': 'G1220965092-ORNL_DAAC', 'revision-id': 1, 'native-id': 'Peatland_carbon_balance.dcpeat_lpx_stocker17pnas.csv', 'provider-id': 'ORNL_DAAC', 'format': 'application/echo10+xml', 'revision-date': '2017-12-21T14:19:48.277Z'}\n"
     ]
    }
   ],
   "source": [
    "params = {}\n",
    "\n",
    "params['provider'] = 'ORNL_DAAC'\n",
    "config = {'env':'uat'}\n",
    "results = gran.search(params, filters=[gran.meta_fields], config=config)\n",
    "print(\"Found {} records.\".format(len(results)))\n",
    "for i in results:\n",
    "    print (i)"
   ]
  },
  {
   "cell_type": "markdown",
   "metadata": {},
   "source": [
    "## Perform a Chain of Filtered Results\n",
    "In this example, perform many filters, each making an aditional change to the results"
   ]
  },
  {
   "cell_type": "code",
   "execution_count": 9,
   "metadata": {},
   "outputs": [
    {
     "name": "stdout",
     "output_type": "stream",
     "text": [
      "Found 10 records.\n",
      "{'concept-id': 'G1461050198-ORNL_DAAC', 'revision-id': 1, 'provider-id': 'ORNL_DAAC'}\n",
      "{'concept-id': 'G1461050199-ORNL_DAAC', 'revision-id': 1, 'provider-id': 'ORNL_DAAC'}\n",
      "{'concept-id': 'G1461050201-ORNL_DAAC', 'revision-id': 1, 'provider-id': 'ORNL_DAAC'}\n",
      "{'concept-id': 'G1461050202-ORNL_DAAC', 'revision-id': 1, 'provider-id': 'ORNL_DAAC'}\n",
      "{'concept-id': 'G1461050203-ORNL_DAAC', 'revision-id': 1, 'provider-id': 'ORNL_DAAC'}\n",
      "{'concept-id': 'G1461050204-ORNL_DAAC', 'revision-id': 1, 'provider-id': 'ORNL_DAAC'}\n",
      "{'concept-id': 'G1461050205-ORNL_DAAC', 'revision-id': 1, 'provider-id': 'ORNL_DAAC'}\n",
      "{'concept-id': 'G1461050206-ORNL_DAAC', 'revision-id': 1, 'provider-id': 'ORNL_DAAC'}\n",
      "{'concept-id': 'G1461050207-ORNL_DAAC', 'revision-id': 1, 'provider-id': 'ORNL_DAAC'}\n",
      "{'concept-id': 'G1461050208-ORNL_DAAC', 'revision-id': 1, 'provider-id': 'ORNL_DAAC'}\n"
     ]
    }
   ],
   "source": [
    "params = {}\n",
    "\n",
    "params['provider'] = 'ORNL_DAAC'\n",
    "results = gran.search(params,\n",
    "                      filters=[gran.meta_fields,\n",
    "                               gran.drop_fields('concept-type'), \n",
    "                               gran.drop_fields('native-id'),\n",
    "                               gran.drop_fields('format'),\n",
    "                               gran.drop_fields('revision-date')])\n",
    "print(\"Found {} records.\".format(len(results)))\n",
    "for i in results:\n",
    "    print (i)"
   ]
  },
  {
   "cell_type": "markdown",
   "metadata": {},
   "source": [
    "## Perform a Sorted Search\n",
    "\n",
    "In this example, perform two searches which sort the results in ascending and descending order"
   ]
  },
  {
   "cell_type": "code",
   "execution_count": 10,
   "metadata": {},
   "outputs": [
    {
     "name": "stdout",
     "output_type": "stream",
     "text": [
      "Found 10 records.\n",
      "0.0\n",
      "0.0\n",
      "0.0\n",
      "6.1e-05\n",
      "6.1e-05\n",
      "7.1e-05\n",
      "8.9e-05\n",
      "9.2e-05\n",
      "9.9e-05\n",
      "9.9e-05\n",
      "\n",
      "vs\n",
      "\n",
      "Found 10 records.\n",
      "73679.917598\n",
      "56946.430146\n",
      "56822.174976\n",
      "56242.191935\n",
      "55627.709745\n",
      "55489.143707\n",
      "55219.581991\n",
      "55025.582658\n",
      "54928.74648\n",
      "54910.311398\n"
     ]
    }
   ],
   "source": [
    "def list_by_size(query):\n",
    "    \"\"\"Search and display the results in the same way\"\"\"\n",
    "    results = gran.search(query, filters=[gran.umm_fields], limit=10)\n",
    "    print(\"Found {} records.\".format(len(results)))\n",
    "    for i in results:\n",
    "        print (i['DataGranule']['ArchiveAndDistributionInformation'][0]['Size'])\n",
    "\n",
    "list_by_size({'provider': 'ORNL_DAAC', 'sort_key': 'data_size'})\n",
    "print (\"\\nvs\\n\")\n",
    "list_by_size({'provider': 'ORNL_DAAC', 'sort_key': '-data_size'})"
   ]
  },
  {
   "cell_type": "markdown",
   "metadata": {},
   "source": [
    "### Help with Sort Keys\n",
    "Can not remember the sort keys, look them up"
   ]
  },
  {
   "cell_type": "code",
   "execution_count": 11,
   "metadata": {},
   "outputs": [],
   "source": [
    "gran.open_api(\"#sorting-granule-results\")"
   ]
  },
  {
   "cell_type": "markdown",
   "metadata": {},
   "source": [
    "## More help\n",
    "Get a print out of the functions in this API"
   ]
  },
  {
   "cell_type": "code",
   "execution_count": 12,
   "metadata": {},
   "outputs": [
    {
     "name": "stdout",
     "output_type": "stream",
     "text": [
      "\n",
      "Code common to both collection.py and granule.py\n",
      "date: 2020-11-23\n",
      "since: 0.0\n",
      "\n",
      "A simple search interface for CMR. Use the search() function to perform searches.\n",
      "This function can handle any query parameter which is supported by the CMR.\n",
      "\n",
      "    search_by_page()\n",
      "        base - CMR API end point directory\n",
      "        query - a dictionary of CMR parameters\n",
      "        filters - a list of result filter lambdas\n",
      "        page_state - a page_state dictionary for current page\n",
      "        config - configurations\n",
      "\n",
      "More information can be found at:\n",
      "https://cmr.earthdata.nasa.gov/search/site/docs/search/api.html\n",
      "\n",
      "**** Functions:\n",
      "\n",
      "apply_filters():\n",
      "Apply all the filters on the downloaded data\n",
      "    Parameters:\n",
      "        filters(list): a list of filter lambdas which taken in a row and return and row\n",
      "        items(list): list of records from CMR\n",
      "    Returns:\n",
      "        Filtered data\n",
      "\n",
      "**** Filter Lambdas:\n",
      "\n"
     ]
    }
   ],
   "source": [
    "print(gran.help_text('_filters'))"
   ]
  },
  {
   "cell_type": "markdown",
   "metadata": {},
   "source": [
    "----\n",
    "EOL"
   ]
  }
 ],
 "metadata": {
  "kernelspec": {
   "display_name": "conda_python3",
   "language": "python",
   "name": "conda_python3"
  },
  "language_info": {
   "codemirror_mode": {
    "name": "ipython",
    "version": 3
   },
   "file_extension": ".py",
   "mimetype": "text/x-python",
   "name": "python",
   "nbconvert_exporter": "python",
   "pygments_lexer": "ipython3",
   "version": "3.6.13"
  }
 },
 "nbformat": 4,
 "nbformat_minor": 4
}
